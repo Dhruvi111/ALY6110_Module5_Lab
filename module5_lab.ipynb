{
  "nbformat": 4,
  "nbformat_minor": 0,
  "metadata": {
    "colab": {
      "provenance": []
    },
    "kernelspec": {
      "name": "python3",
      "display_name": "Python 3"
    },
    "language_info": {
      "name": "python"
    }
  },
  "cells": [
    {
      "cell_type": "code",
      "execution_count": 4,
      "metadata": {
        "colab": {
          "base_uri": "https://localhost:8080/"
        },
        "id": "3e2YwuNQJsAe",
        "outputId": "89e90f21-fb34-46cd-f90f-6fe15c0457bd"
      },
      "outputs": [
        {
          "output_type": "stream",
          "name": "stdout",
          "text": [
            "Collecting pyspark\n",
            "  Downloading pyspark-3.5.1.tar.gz (317.0 MB)\n",
            "\u001b[2K     \u001b[90m━━━━━━━━━━━━━━━━━━━━━━━━━━━━━━━━━━━━━━━━\u001b[0m \u001b[32m317.0/317.0 MB\u001b[0m \u001b[31m4.2 MB/s\u001b[0m eta \u001b[36m0:00:00\u001b[0m\n",
            "\u001b[?25h  Preparing metadata (setup.py) ... \u001b[?25l\u001b[?25hdone\n",
            "Requirement already satisfied: py4j==0.10.9.7 in /usr/local/lib/python3.10/dist-packages (from pyspark) (0.10.9.7)\n",
            "Building wheels for collected packages: pyspark\n",
            "  Building wheel for pyspark (setup.py) ... \u001b[?25l\u001b[?25hdone\n",
            "  Created wheel for pyspark: filename=pyspark-3.5.1-py2.py3-none-any.whl size=317488491 sha256=0c92c95ced3372a007e901b8d6f15a2f6bf972f23e1a90dbf5a85becd54a8731\n",
            "  Stored in directory: /root/.cache/pip/wheels/80/1d/60/2c256ed38dddce2fdd93be545214a63e02fbd8d74fb0b7f3a6\n",
            "Successfully built pyspark\n",
            "Installing collected packages: pyspark\n",
            "Successfully installed pyspark-3.5.1\n",
            "Requirement already satisfied: matplotlib in /usr/local/lib/python3.10/dist-packages (3.7.1)\n",
            "Requirement already satisfied: contourpy>=1.0.1 in /usr/local/lib/python3.10/dist-packages (from matplotlib) (1.2.1)\n",
            "Requirement already satisfied: cycler>=0.10 in /usr/local/lib/python3.10/dist-packages (from matplotlib) (0.12.1)\n",
            "Requirement already satisfied: fonttools>=4.22.0 in /usr/local/lib/python3.10/dist-packages (from matplotlib) (4.53.0)\n",
            "Requirement already satisfied: kiwisolver>=1.0.1 in /usr/local/lib/python3.10/dist-packages (from matplotlib) (1.4.5)\n",
            "Requirement already satisfied: numpy>=1.20 in /usr/local/lib/python3.10/dist-packages (from matplotlib) (1.25.2)\n",
            "Requirement already satisfied: packaging>=20.0 in /usr/local/lib/python3.10/dist-packages (from matplotlib) (24.1)\n",
            "Requirement already satisfied: pillow>=6.2.0 in /usr/local/lib/python3.10/dist-packages (from matplotlib) (9.4.0)\n",
            "Requirement already satisfied: pyparsing>=2.3.1 in /usr/local/lib/python3.10/dist-packages (from matplotlib) (3.1.2)\n",
            "Requirement already satisfied: python-dateutil>=2.7 in /usr/local/lib/python3.10/dist-packages (from matplotlib) (2.8.2)\n",
            "Requirement already satisfied: six>=1.5 in /usr/local/lib/python3.10/dist-packages (from python-dateutil>=2.7->matplotlib) (1.16.0)\n"
          ]
        }
      ],
      "source": [
        "#using hive on pyspark.\n",
        "\n",
        "#installing pyspark\n",
        "!pip install pyspark\n",
        "!pip install matplotlib\n",
        "\n"
      ]
    },
    {
      "cell_type": "code",
      "source": [
        "#Initialize a Spark Session:\n",
        "\n",
        "from pyspark.sql import SparkSession\n",
        "\n",
        "spark = SparkSession.builder \\\n",
        "    .appName(\"Colab\") \\\n",
        "    .config(\"spark.sql.warehouse.dir\", \"/content/spark-warehouse\") \\\n",
        "    .enableHiveSupport() \\\n",
        "    .getOrCreate()\n"
      ],
      "metadata": {
        "id": "cTArCE8WKUPx"
      },
      "execution_count": 5,
      "outputs": []
    },
    {
      "cell_type": "code",
      "source": [
        "#set up Hadoop Configuration\n",
        "\n",
        "import os\n",
        "\n",
        "# Setting Hadoop home directory and appending to system path\n",
        "os.environ[\"HADOOP_HOME\"] = \"/usr/local/hadoop\"\n",
        "os.environ[\"PATH\"] += os.pathsep + os.path.join(os.environ[\"HADOOP_HOME\"], \"bin\")\n"
      ],
      "metadata": {
        "id": "lXOSgaaCKZfL"
      },
      "execution_count": 6,
      "outputs": []
    },
    {
      "cell_type": "code",
      "source": [
        "# reading csv file.\n",
        "\n",
        "# Path to your CSV file\n",
        "csv_file_path = '/content/drive/MyDrive/6110/BostonHousing-1.csv'\n",
        "\n",
        "# Load the CSV file into a DataFrame\n",
        "df = spark.read.csv(csv_file_path, header=True, inferSchema=True)\n",
        "\n",
        "# Show the DataFrame to verify\n",
        "df.show()\n"
      ],
      "metadata": {
        "colab": {
          "base_uri": "https://localhost:8080/"
        },
        "id": "zxfSK6GtKwfp",
        "outputId": "7d9fd59c-0437-4ad2-8f9a-c82b53c0f9a0"
      },
      "execution_count": 7,
      "outputs": [
        {
          "output_type": "stream",
          "name": "stdout",
          "text": [
            "+-------+----+-----+----+-----+-----+-----+------+---+---+-------+------+-----+----+\n",
            "|   crim|  zn|indus|chas|  nox|   rm|  age|   dis|rad|tax|ptratio|     b|lstat|medv|\n",
            "+-------+----+-----+----+-----+-----+-----+------+---+---+-------+------+-----+----+\n",
            "|0.00632|18.0| 2.31|   0|0.538|6.575| 65.2|  4.09|  1|296|   15.3| 396.9| 4.98|24.0|\n",
            "|0.02731| 0.0| 7.07|   0|0.469|6.421| 78.9|4.9671|  2|242|   17.8| 396.9| 9.14|21.6|\n",
            "|0.02729| 0.0| 7.07|   0|0.469|7.185| 61.1|4.9671|  2|242|   17.8|392.83| 4.03|34.7|\n",
            "|0.03237| 0.0| 2.18|   0|0.458|6.998| 45.8|6.0622|  3|222|   18.7|394.63| 2.94|33.4|\n",
            "|0.06905| 0.0| 2.18|   0|0.458|7.147| 54.2|6.0622|  3|222|   18.7| 396.9| 5.33|36.2|\n",
            "|0.02985| 0.0| 2.18|   0|0.458| 6.43| 58.7|6.0622|  3|222|   18.7|394.12| 5.21|28.7|\n",
            "|0.08829|12.5| 7.87|   0|0.524|6.012| 66.6|5.5605|  5|311|   15.2| 395.6|12.43|22.9|\n",
            "|0.14455|12.5| 7.87|   0|0.524|6.172| 96.1|5.9505|  5|311|   15.2| 396.9|19.15|27.1|\n",
            "|0.21124|12.5| 7.87|   0|0.524|5.631|100.0|6.0821|  5|311|   15.2|386.63|29.93|16.5|\n",
            "|0.17004|12.5| 7.87|   0|0.524|6.004| 85.9|6.5921|  5|311|   15.2|386.71| 17.1|18.9|\n",
            "|0.22489|12.5| 7.87|   0|0.524|6.377| 94.3|6.3467|  5|311|   15.2|392.52|20.45|15.0|\n",
            "|0.11747|12.5| 7.87|   0|0.524|6.009| 82.9|6.2267|  5|311|   15.2| 396.9|13.27|18.9|\n",
            "|0.09378|12.5| 7.87|   0|0.524|5.889| 39.0|5.4509|  5|311|   15.2| 390.5|15.71|21.7|\n",
            "|0.62976| 0.0| 8.14|   0|0.538|5.949| 61.8|4.7075|  4|307|   21.0| 396.9| 8.26|20.4|\n",
            "|0.63796| 0.0| 8.14|   0|0.538|6.096| 84.5|4.4619|  4|307|   21.0|380.02|10.26|18.2|\n",
            "|0.62739| 0.0| 8.14|   0|0.538|5.834| 56.5|4.4986|  4|307|   21.0|395.62| 8.47|19.9|\n",
            "|1.05393| 0.0| 8.14|   0|0.538|5.935| 29.3|4.4986|  4|307|   21.0|386.85| 6.58|23.1|\n",
            "| 0.7842| 0.0| 8.14|   0|0.538| 5.99| 81.7|4.2579|  4|307|   21.0|386.75|14.67|17.5|\n",
            "|0.80271| 0.0| 8.14|   0|0.538|5.456| 36.6|3.7965|  4|307|   21.0|288.99|11.69|20.2|\n",
            "| 0.7258| 0.0| 8.14|   0|0.538|5.727| 69.5|3.7965|  4|307|   21.0|390.95|11.28|18.2|\n",
            "+-------+----+-----+----+-----+-----+-----+------+---+---+-------+------+-----+----+\n",
            "only showing top 20 rows\n",
            "\n"
          ]
        }
      ]
    },
    {
      "cell_type": "code",
      "source": [
        "# Combine features to a single vector columns using VectorAssembler (all columns other than target column 'medv')\n",
        "\n",
        "from pyspark.ml.feature import VectorAssembler\n",
        "\n",
        "# Define the input columns\n",
        "input_cols = df.columns[:-1]\n",
        "\n",
        "# Define the output column\n",
        "output_col = \"mdev\"\n",
        "\n",
        "# Create a VectorAssembler instance\n",
        "vec_assembler = VectorAssembler(inputCols=input_cols, outputCol=output_col)\n",
        "\n",
        "# Transform the DataFrame\n",
        "df_transformed = vec_assembler.transform(df)\n",
        "\n",
        "# Show the DataFrame with the new features column\n",
        "df_transformed.select(output_col).show(truncate=False)\n"
      ],
      "metadata": {
        "colab": {
          "base_uri": "https://localhost:8080/"
        },
        "id": "6pwnXi9FLCw3",
        "outputId": "ba8b340e-f993-4ed4-ada3-544086b5c427"
      },
      "execution_count": 8,
      "outputs": [
        {
          "output_type": "stream",
          "name": "stdout",
          "text": [
            "+----------------------------------------------------------------------------+\n",
            "|mdev                                                                        |\n",
            "+----------------------------------------------------------------------------+\n",
            "|[0.00632,18.0,2.31,0.0,0.538,6.575,65.2,4.09,1.0,296.0,15.3,396.9,4.98]     |\n",
            "|[0.02731,0.0,7.07,0.0,0.469,6.421,78.9,4.9671,2.0,242.0,17.8,396.9,9.14]    |\n",
            "|[0.02729,0.0,7.07,0.0,0.469,7.185,61.1,4.9671,2.0,242.0,17.8,392.83,4.03]   |\n",
            "|[0.03237,0.0,2.18,0.0,0.458,6.998,45.8,6.0622,3.0,222.0,18.7,394.63,2.94]   |\n",
            "|[0.06905,0.0,2.18,0.0,0.458,7.147,54.2,6.0622,3.0,222.0,18.7,396.9,5.33]    |\n",
            "|[0.02985,0.0,2.18,0.0,0.458,6.43,58.7,6.0622,3.0,222.0,18.7,394.12,5.21]    |\n",
            "|[0.08829,12.5,7.87,0.0,0.524,6.012,66.6,5.5605,5.0,311.0,15.2,395.6,12.43]  |\n",
            "|[0.14455,12.5,7.87,0.0,0.524,6.172,96.1,5.9505,5.0,311.0,15.2,396.9,19.15]  |\n",
            "|[0.21124,12.5,7.87,0.0,0.524,5.631,100.0,6.0821,5.0,311.0,15.2,386.63,29.93]|\n",
            "|[0.17004,12.5,7.87,0.0,0.524,6.004,85.9,6.5921,5.0,311.0,15.2,386.71,17.1]  |\n",
            "|[0.22489,12.5,7.87,0.0,0.524,6.377,94.3,6.3467,5.0,311.0,15.2,392.52,20.45] |\n",
            "|[0.11747,12.5,7.87,0.0,0.524,6.009,82.9,6.2267,5.0,311.0,15.2,396.9,13.27]  |\n",
            "|[0.09378,12.5,7.87,0.0,0.524,5.889,39.0,5.4509,5.0,311.0,15.2,390.5,15.71]  |\n",
            "|[0.62976,0.0,8.14,0.0,0.538,5.949,61.8,4.7075,4.0,307.0,21.0,396.9,8.26]    |\n",
            "|[0.63796,0.0,8.14,0.0,0.538,6.096,84.5,4.4619,4.0,307.0,21.0,380.02,10.26]  |\n",
            "|[0.62739,0.0,8.14,0.0,0.538,5.834,56.5,4.4986,4.0,307.0,21.0,395.62,8.47]   |\n",
            "|[1.05393,0.0,8.14,0.0,0.538,5.935,29.3,4.4986,4.0,307.0,21.0,386.85,6.58]   |\n",
            "|[0.7842,0.0,8.14,0.0,0.538,5.99,81.7,4.2579,4.0,307.0,21.0,386.75,14.67]    |\n",
            "|[0.80271,0.0,8.14,0.0,0.538,5.456,36.6,3.7965,4.0,307.0,21.0,288.99,11.69]  |\n",
            "|[0.7258,0.0,8.14,0.0,0.538,5.727,69.5,3.7965,4.0,307.0,21.0,390.95,11.28]   |\n",
            "+----------------------------------------------------------------------------+\n",
            "only showing top 20 rows\n",
            "\n"
          ]
        }
      ]
    },
    {
      "cell_type": "code",
      "source": [
        "# Standardize features for principal component analysis\n",
        "\n",
        "from pyspark.ml.feature import StandardScaler\n",
        "\n",
        "# Define the input column\n",
        "input_col = \"mdev\"\n",
        "\n",
        "# Define the output column\n",
        "output_col = \"scaled_features\"\n",
        "\n",
        "# Create a StandardScaler instance\n",
        "scaler = StandardScaler(inputCol=input_col, outputCol=output_col)\n",
        "\n",
        "# Fit the scaler to the data\n",
        "scalerModel = scaler.fit(df_transformed)\n",
        "\n",
        "# Transform the data\n",
        "scaled_data = scalerModel.transform(df_transformed)\n",
        "\n",
        "# Show the DataFrame with the standardized features\n",
        "scaled_data.select(output_col).show(truncate=False)\n"
      ],
      "metadata": {
        "colab": {
          "base_uri": "https://localhost:8080/"
        },
        "id": "mp-JDN1ML7wU",
        "outputId": "a05a85ba-f5f6-4344-dd25-354753c847e9"
      },
      "execution_count": 9,
      "outputs": [
        {
          "output_type": "stream",
          "name": "stdout",
          "text": [
            "+----------------------------------------------------------------------------------------------------------------------------------------------------------------------------------------------------------------------------------------+\n",
            "|scaled_features                                                                                                                                                                                                                         |\n",
            "+----------------------------------------------------------------------------------------------------------------------------------------------------------------------------------------------------------------------------------------+\n",
            "|[7.347517129314295E-4,0.7717884565672898,0.33671737006839275,0.0,4.64282698889716,9.357870159614736,2.3162570967793923,1.9423376220117814,0.1148466992737183,1.7562896940960828,7.067152421345664,4.347451553571431,0.6973753120717119] |\n",
            "|[0.003175010962050212,0.0,1.0305592235426566,0.0,4.047371482886185,9.138689626598664,2.802955290427823,2.3588716876026212,0.2296933985474366,1.4358854931461218,8.221915888885805,4.347451553571431,1.2799217574970776]                 |\n",
            "|[0.0031726857984016943,0.0,1.0305592235426566,0.0,4.047371482886185,10.22605279039268,2.1706028928408108,2.3588716876026212,0.2296933985474366,1.4358854931461218,8.221915888885805,4.302870732651714,0.5643418690058231]               |\n",
            "|[0.003763277365125059,0.0,0.3177679076835914,0.0,3.9524437935221175,9.959905000301736,1.6270640342407388,2.8789337731442104,0.3445400978211549,1.3172172705720622,8.637630737200256,4.322587066228001,0.4117034974881191]               |\n",
            "|[0.00802762749650557,0.0,0.3177679076835914,0.0,3.9524437935221175,10.171969282245858,1.9254775252368568,2.8789337731442104,0.3445400978211549,1.3172172705720622,8.637630737200256,4.347451553571431,0.7463876332012499]               |\n",
            "|[0.003470306745411894,0.0,0.3177679076835914,0.0,3.9524437935221175,9.151498878528175,2.0853418954133485,2.8789337731442104,0.3445400978211549,1.3172172705720622,8.637630737200256,4.31700077171472,0.7295834088139797]                |\n",
            "|[0.010264434926379098,0.5359642059495068,1.1471712997568186,0.0,4.5220099297065275,8.556580288913123,2.3659926786120784,2.6406768575052593,0.5742334963685914,1.8452908610266276,7.020961882644058,4.33321197932189,1.7406375761147346] |\n",
            "|[0.01680512026965793,0.5359642059495068,1.1471712997568186,0.0,4.5220099297065275,8.784300323215534,3.413992438657969,2.8258875353988033,0.5742334963685914,1.8452908610266276,7.020961882644058,4.347451553571431,2.6816741418018637]  |\n",
            "|[0.024558378455638474,0.5359642059495068,1.1471712997568186,0.0,4.5220099297065275,8.014321957230505,3.5525415594775955,2.8883842667085218,0.5742334963685914,1.8452908610266276,7.020961882644058,4.234958917000056,4.191253632591634] |\n",
            "|[0.01976854133969308,0.5359642059495068,1.1471712997568186,0.0,4.5220099297065275,8.545194287198003,3.051633199591255,3.1305828454923876,0.5742334963685914,1.8452908610266276,7.020961882644058,4.235835198492335,2.394601975185999]   |\n",
            "|[0.02614530264575145,0.5359642059495068,1.1471712997568186,0.0,4.5220099297065275,9.0760666171655,3.3500466905873725,3.0140425881716806,0.5742334963685914,1.8452908610266276,7.020961882644058,4.299475141869131,2.8637199059972906]   |\n",
            "|[0.013656848689565668,0.5359642059495068,1.1471712997568186,0.0,4.5220099297065275,8.552310538269953,2.945056952806927,2.9570546872813592,0.5742334963685914,1.8452908610266276,7.020961882644058,4.347451553571431,1.8582671468256258] |\n",
            "|[0.010902692347897066,0.5359642059495068,1.1471712997568186,0.0,4.5220099297065275,8.381520512543146,1.3854912081962623,2.5886279080254324,0.5742334963685914,1.8452908610266276,7.020961882644058,4.277349034189075,2.1999530427001193]|\n",
            "|[0.07321475296450902,0.0,1.1865278754790982,0.0,4.64282698889716,8.466915525406549,2.195470683757154,2.2355878620098926,0.4593867970948732,1.8215572165118157,9.700013127337186,4.347451553571431,1.1566907786570964]                   |\n",
            "|[0.07416807006040106,0.0,1.1865278754790982,0.0,4.64282698889716,8.67613330692189,3.0018976177585683,2.1189526248543684,0.4593867970948732,1.8215572165118157,9.700013127337186,4.1625561587004665,1.4367611851115991]                  |\n",
            "|[0.07293922107215974,0.0,1.1865278754790982,0.0,4.64282698889716,8.30324175075169,2.0071859811048416,2.136381424543325,0.4593867970948732,1.8215572165118157,9.700013127337186,4.333431049694959,1.1860981713348193]                    |\n",
            "|[0.12252798620408567,0.0,1.1865278754790982,0.0,4.64282698889716,8.446990022405087,1.0408946769269356,2.136381424543325,0.4593867970948732,1.8215572165118157,9.700013127337186,4.237368691103825,0.9214316372353141]                   |\n",
            "|[0.0911696666583587,0.0,1.1865278754790982,0.0,4.64282698889716,8.525268784196543,2.9024264540931957,2.0220731933408227,0.4593867970948732,1.8215572165118157,9.700013127337186,4.236273339238475,2.0543164313437776]                   |\n",
            "|[0.09332160561506135,0.0,1.1865278754790982,0.0,4.64282698889716,7.765253169712244,1.3002302107688,1.8029547144175375,0.4593867970948732,1.8215572165118157,9.700013127337186,3.1654573556729853,1.6370115257265685]                    |\n",
            "|[0.08438018880468852,0.0,1.1865278754790982,0.0,4.64282698889716,8.150953977811954,2.469016383836929,1.8029547144175375,0.4593867970948732,1.8215572165118157,9.700013127337186,4.282278117583147,1.5795970924033955]                   |\n",
            "+----------------------------------------------------------------------------------------------------------------------------------------------------------------------------------------------------------------------------------------+\n",
            "only showing top 20 rows\n",
            "\n"
          ]
        }
      ]
    },
    {
      "cell_type": "code",
      "source": [
        "# train model for two principal component analysis\n",
        "\n",
        "from pyspark.ml.feature import PCA\n",
        "\n",
        "# Define the input column\n",
        "input_col = \"scaled_features\"\n",
        "\n",
        "# Define the output column\n",
        "output_col = \"pca_features\"\n",
        "\n",
        "# Create a PCA instance with 2 principal components\n",
        "pca = PCA(k=2, inputCol=input_col, outputCol=output_col)\n",
        "\n",
        "# Fit the model to the data\n",
        "model = pca.fit(scaled_data)\n",
        "\n",
        "# Transform the data\n",
        "transformed_data = model.transform(scaled_data)\n",
        "\n",
        "# Show the DataFrame with the principal components\n",
        "transformed_data.select(output_col).show(truncate=False)\n"
      ],
      "metadata": {
        "colab": {
          "base_uri": "https://localhost:8080/"
        },
        "id": "uyYcx7ZLMHfG",
        "outputId": "5791d7c7-7524-452b-f42f-7ab3f66b09cf"
      },
      "execution_count": 10,
      "outputs": [
        {
          "output_type": "stream",
          "name": "stdout",
          "text": [
            "+------------------------------------------+\n",
            "|pca_features                              |\n",
            "+------------------------------------------+\n",
            "|[-1.2551263234672798,0.619208753048265]   |\n",
            "|[-1.8955383642584411,0.43826027853267524] |\n",
            "|[-1.2788028017576778,0.4459069048066415]  |\n",
            "|[-0.7424275948415135,-0.16000349959138044]|\n",
            "|[-0.8955945817747853,-0.05552432724763588]|\n",
            "|[-1.1386875105130903,-0.1626173058875903] |\n",
            "|[-1.9938116978405127,0.19638661842032645] |\n",
            "|[-2.5101372119925514,0.42408881980581625] |\n",
            "|[-3.1715989580575763,0.18903985467514833] |\n",
            "|[-2.2782272156701686,0.1627491476656405]  |\n",
            "|[-2.442836900985915,0.35411004177272076]  |\n",
            "|[-2.1089238064836033,0.25955123545832715] |\n",
            "|[-1.8898983043794966,-0.16514637273853727]|\n",
            "|[-2.616302407976548,-0.2803088076568197]  |\n",
            "|[-2.9916877611813377,-0.02198932636098055]|\n",
            "|[-2.632002162610281,-0.3343045948662986]  |\n",
            "|[-2.2516610353291657,-0.6331788630832922] |\n",
            "|[-3.2007853788687837,-0.0754050688535747] |\n",
            "|[-3.0011290868678695,-0.8373780300742931] |\n",
            "|[-3.0480393569961133,-0.14163132128397346]|\n",
            "+------------------------------------------+\n",
            "only showing top 20 rows\n",
            "\n"
          ]
        }
      ]
    },
    {
      "cell_type": "code",
      "source": [
        "# Collect distributed data in numpy array and then convert to pandas dataframe , and make different column for each feature\n",
        "\n",
        "import numpy as np\n",
        "import pandas as pd\n",
        "\n",
        "# Collect the distributed data into a local NumPy array\n",
        "np_arr = transformed_data.select(output_col).collect()\n",
        "\n",
        "# Convert the NumPy array to a Pandas DataFrame\n",
        "df_pca = pd.DataFrame(np.concatenate(np_arr, axis=0))\n",
        "\n",
        "# Create different columns for each feature\n",
        "df_pca.columns = [\"pc1\", \"pc2\"]\n",
        "\n",
        "# Print the DataFrame\n",
        "print(df_pca.head())\n"
      ],
      "metadata": {
        "colab": {
          "base_uri": "https://localhost:8080/"
        },
        "id": "g8N_ut1YLXLZ",
        "outputId": "e578eb6c-8e62-4ca4-e0d8-56c6c4f3262d"
      },
      "execution_count": 11,
      "outputs": [
        {
          "output_type": "stream",
          "name": "stdout",
          "text": [
            "        pc1       pc2\n",
            "0 -1.255126  0.619209\n",
            "1 -1.895538  0.438260\n",
            "2 -1.278803  0.445907\n",
            "3 -0.742428 -0.160003\n",
            "4 -0.895595 -0.055524\n"
          ]
        }
      ]
    },
    {
      "cell_type": "code",
      "source": [
        "# Plot two principal components\n",
        "\n",
        "import matplotlib.pyplot as plt\n",
        "\n",
        "# Extract the principal components\n",
        "pc1 = df_pca[\"pc1\"].tolist()\n",
        "pc2 = df_pca[\"pc2\"].tolist()\n",
        "\n",
        "# Create a scatter plot\n",
        "plt.figure(figsize=(10, 6))\n",
        "plt.scatter(pc1, pc2, alpha=0.5)\n",
        "\n",
        "# Add labels and title\n",
        "plt.xlabel(\"PC1\", fontsize=12)\n",
        "plt.ylabel(\"PC2\", fontsize=12)\n",
        "plt.title(\"Scatter Plot of Principal Components\", fontsize=14)\n",
        "\n",
        "# Show the plot\n",
        "plt.show()\n"
      ],
      "metadata": {
        "colab": {
          "base_uri": "https://localhost:8080/",
          "height": 569
        },
        "id": "wfE3sInyMbDK",
        "outputId": "9a36e4cf-b7d4-42ce-bbd7-130f31d82b8b"
      },
      "execution_count": 12,
      "outputs": [
        {
          "output_type": "display_data",
          "data": {
            "text/plain": [
              "<Figure size 1000x600 with 1 Axes>"
            ],
            "image/png": "[encoded data removed]"
          },
          "metadata": {}
        }
      ]
    },
    {
      "cell_type": "code",
      "source": [
        "# Vectorize features and target together for model development\n",
        "\n",
        "from pyspark.ml.feature import VectorAssembler\n",
        "\n",
        "# Define the input columns\n",
        "input_cols = df.columns[:-1] + [\"medv\"]\n",
        "\n",
        "# Define the output column\n",
        "output_col = \"features\"\n",
        "\n",
        "# Create a VectorAssembler instance\n",
        "vec_assembler = VectorAssembler(inputCols=input_cols, outputCol=output_col)\n",
        "\n",
        "# Transform the DataFrame\n",
        "df_transformed = vec_assembler.transform(df)\n",
        "\n",
        "# Show the DataFrame with the new features column\n",
        "df_transformed.select(output_col).show(truncate=False)\n"
      ],
      "metadata": {
        "colab": {
          "base_uri": "https://localhost:8080/"
        },
        "id": "lt25QqpGNuzY",
        "outputId": "6f78e23e-2ed8-421e-c28b-e32799dd33eb"
      },
      "execution_count": 13,
      "outputs": [
        {
          "output_type": "stream",
          "name": "stdout",
          "text": [
            "+---------------------------------------------------------------------------------+\n",
            "|features                                                                         |\n",
            "+---------------------------------------------------------------------------------+\n",
            "|[0.00632,18.0,2.31,0.0,0.538,6.575,65.2,4.09,1.0,296.0,15.3,396.9,4.98,24.0]     |\n",
            "|[0.02731,0.0,7.07,0.0,0.469,6.421,78.9,4.9671,2.0,242.0,17.8,396.9,9.14,21.6]    |\n",
            "|[0.02729,0.0,7.07,0.0,0.469,7.185,61.1,4.9671,2.0,242.0,17.8,392.83,4.03,34.7]   |\n",
            "|[0.03237,0.0,2.18,0.0,0.458,6.998,45.8,6.0622,3.0,222.0,18.7,394.63,2.94,33.4]   |\n",
            "|[0.06905,0.0,2.18,0.0,0.458,7.147,54.2,6.0622,3.0,222.0,18.7,396.9,5.33,36.2]    |\n",
            "|[0.02985,0.0,2.18,0.0,0.458,6.43,58.7,6.0622,3.0,222.0,18.7,394.12,5.21,28.7]    |\n",
            "|[0.08829,12.5,7.87,0.0,0.524,6.012,66.6,5.5605,5.0,311.0,15.2,395.6,12.43,22.9]  |\n",
            "|[0.14455,12.5,7.87,0.0,0.524,6.172,96.1,5.9505,5.0,311.0,15.2,396.9,19.15,27.1]  |\n",
            "|[0.21124,12.5,7.87,0.0,0.524,5.631,100.0,6.0821,5.0,311.0,15.2,386.63,29.93,16.5]|\n",
            "|[0.17004,12.5,7.87,0.0,0.524,6.004,85.9,6.5921,5.0,311.0,15.2,386.71,17.1,18.9]  |\n",
            "|[0.22489,12.5,7.87,0.0,0.524,6.377,94.3,6.3467,5.0,311.0,15.2,392.52,20.45,15.0] |\n",
            "|[0.11747,12.5,7.87,0.0,0.524,6.009,82.9,6.2267,5.0,311.0,15.2,396.9,13.27,18.9]  |\n",
            "|[0.09378,12.5,7.87,0.0,0.524,5.889,39.0,5.4509,5.0,311.0,15.2,390.5,15.71,21.7]  |\n",
            "|[0.62976,0.0,8.14,0.0,0.538,5.949,61.8,4.7075,4.0,307.0,21.0,396.9,8.26,20.4]    |\n",
            "|[0.63796,0.0,8.14,0.0,0.538,6.096,84.5,4.4619,4.0,307.0,21.0,380.02,10.26,18.2]  |\n",
            "|[0.62739,0.0,8.14,0.0,0.538,5.834,56.5,4.4986,4.0,307.0,21.0,395.62,8.47,19.9]   |\n",
            "|[1.05393,0.0,8.14,0.0,0.538,5.935,29.3,4.4986,4.0,307.0,21.0,386.85,6.58,23.1]   |\n",
            "|[0.7842,0.0,8.14,0.0,0.538,5.99,81.7,4.2579,4.0,307.0,21.0,386.75,14.67,17.5]    |\n",
            "|[0.80271,0.0,8.14,0.0,0.538,5.456,36.6,3.7965,4.0,307.0,21.0,288.99,11.69,20.2]  |\n",
            "|[0.7258,0.0,8.14,0.0,0.538,5.727,69.5,3.7965,4.0,307.0,21.0,390.95,11.28,18.2]   |\n",
            "+---------------------------------------------------------------------------------+\n",
            "only showing top 20 rows\n",
            "\n"
          ]
        }
      ]
    },
    {
      "cell_type": "code",
      "source": [
        "# Split dataset into training and testing dataset\n",
        "\n",
        "# Split the data into training and testing sets\n",
        "(train_data, test_data) = df_transformed.randomSplit([0.8, 0.2])\n",
        "\n",
        "# Print the number of rows in each set\n",
        "print(\"Number of rows in training data:\", train_data.count())\n",
        "print(\"Number of rows in testing data:\", test_data.count())\n"
      ],
      "metadata": {
        "colab": {
          "base_uri": "https://localhost:8080/"
        },
        "id": "IbZA5P6AN8VA",
        "outputId": "e214322b-b890-4a69-be5b-f696e008f653"
      },
      "execution_count": 14,
      "outputs": [
        {
          "output_type": "stream",
          "name": "stdout",
          "text": [
            "Number of rows in training data: 403\n",
            "Number of rows in testing data: 103\n"
          ]
        }
      ]
    },
    {
      "cell_type": "code",
      "source": [
        "# Fit model for linear regression\n",
        "\n",
        "# Import LinearRegression\n",
        "from pyspark.ml.regression import LinearRegression\n",
        "\n",
        "# Define the input and output columns\n",
        "input_col = \"features\"\n",
        "output_col = \"medv\"\n",
        "\n",
        "# Instantiate the LinearRegression model\n",
        "lr = LinearRegression(featuresCol=input_col, labelCol=output_col)\n",
        "\n",
        "# Fit the model to the training data\n",
        "model = lr.fit(train_data)\n",
        "\n",
        "# Print the model summary\n",
        "print(\"Coefficients:\", model.coefficients)\n",
        "print(\"Coefficients:\", model.summary)\n"
      ],
      "metadata": {
        "colab": {
          "base_uri": "https://localhost:8080/"
        },
        "id": "T7xngYKqOBpp",
        "outputId": "6c296f39-c39e-4761-85ba-757012aa9f9a"
      },
      "execution_count": 15,
      "outputs": [
        {
          "output_type": "stream",
          "name": "stdout",
          "text": [
            "Coefficients: [2.5939696682381046e-16,7.841778383346358e-16,-1.0750077261743476e-15,1.3895469322762786e-14,-1.328803254032185e-14,-4.1384513534822095e-14,-1.717146454999876e-16,-1.2704677836331162e-14,-3.033784259080253e-16,-9.350759141739746e-17,1.754384443305311e-14,-6.326957461333006e-17,-2.9546538598961687e-16,1.0000000000000033]\n",
            "Coefficients: <pyspark.ml.regression.LinearRegressionTrainingSummary object at 0x7d2f4932f2e0>\n"
          ]
        }
      ]
    },
    {
      "cell_type": "code",
      "source": [
        "# Find out model coefficients and intercept\n",
        "\n",
        "# Extract the model coefficients and intercept\n",
        "coefficients = model.coefficients\n",
        "intercept = model.intercept\n",
        "\n",
        "# Print the coefficients and intercept\n",
        "print(\"Coefficients:\", coefficients)\n",
        "print(\"Intercept:\", intercept)\n"
      ],
      "metadata": {
        "colab": {
          "base_uri": "https://localhost:8080/"
        },
        "id": "NP-k5eyWOyrq",
        "outputId": "9387bbf5-4cb9-4b4c-b378-e69767c7f3a5"
      },
      "execution_count": 16,
      "outputs": [
        {
          "output_type": "stream",
          "name": "stdout",
          "text": [
            "Coefficients: [2.5939696682381046e-16,7.841778383346358e-16,-1.0750077261743476e-15,1.3895469322762786e-14,-1.328803254032185e-14,-4.1384513534822095e-14,-1.717146454999876e-16,-1.2704677836331162e-14,-3.033784259080253e-16,-9.350759141739746e-17,1.754384443305311e-14,-6.326957461333006e-17,-2.9546538598961687e-16,1.0000000000000033]\n",
            "Intercept: 0.0\n"
          ]
        }
      ]
    },
    {
      "cell_type": "code",
      "source": [
        "# Evaluate model for test dataset\n",
        "\n",
        "import numpy as np\n",
        "# Make predictions on the test data\n",
        "predictions = model.transform(test_data)\n",
        "\n",
        "# Select the predicted and actual values\n",
        "predicted_values = predictions.select(\"prediction\").collect()\n",
        "actual_values = predictions.select(\"medv\").collect()\n",
        "\n",
        "# Calculate the mean squared error\n",
        "mse = np.mean((np.array(predicted_values) - np.array(actual_values))**2)\n",
        "\n",
        "# Print the mean squared error\n",
        "print(\"Mean squared error:\", mse)\n",
        "\n",
        "# Calculate the root mean squared error\n",
        "rmse = np.sqrt(mse)\n",
        "\n",
        "# Print the root mean squared error\n",
        "print(\"Root mean squared error:\", rmse)\n"
      ],
      "metadata": {
        "colab": {
          "base_uri": "https://localhost:8080/"
        },
        "id": "ywTeBOaVO2_u",
        "outputId": "f20b821d-07d3-4883-88b7-04c3e2f04b9e"
      },
      "execution_count": 17,
      "outputs": [
        {
          "output_type": "stream",
          "name": "stdout",
          "text": [
            "Mean squared error: 1.6087631041202834e-27\n",
            "Root mean squared error: 4.0109389226467705e-14\n"
          ]
        }
      ]
    },
    {
      "cell_type": "code",
      "source": [
        "#  further analysis for better interpretation of model results.\n",
        "\n",
        "import matplotlib.pyplot as plt\n",
        "# Calculate the R-squared value\n",
        "r2 = model.summary.r2\n",
        "\n",
        "# Print the R-squared value\n",
        "print(\"R-squared:\", r2)\n",
        "\n",
        "# Calculate the adjusted R-squared value\n",
        "adjusted_r2 = model.summary.r2adj\n",
        "\n",
        "# Print the adjusted R-squared value\n",
        "print(\"Adjusted R-squared:\", adjusted_r2)\n",
        "\n",
        "# Calculate the mean absolute error\n",
        "mae = model.summary.meanAbsoluteError\n",
        "\n",
        "# Print the mean absolute error\n",
        "print(\"Mean absolute error:\", mae)\n",
        "\n",
        "\n",
        "\n"
      ],
      "metadata": {
        "colab": {
          "base_uri": "https://localhost:8080/"
        },
        "id": "lHT5_u1-PCXE",
        "outputId": "d70d0030-71e8-4979-cb88-95ca153c4ec3"
      },
      "execution_count": 18,
      "outputs": [
        {
          "output_type": "stream",
          "name": "stdout",
          "text": [
            "R-squared: 1.0\n",
            "Adjusted R-squared: 1.0\n",
            "Mean absolute error: 2.915120584956217e-14\n"
          ]
        }
      ]
    }
  ]
}